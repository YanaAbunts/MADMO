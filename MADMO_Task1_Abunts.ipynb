{
  "nbformat": 4,
  "nbformat_minor": 0,
  "metadata": {
    "colab": {
      "name": "Untitled0.ipynb",
      "provenance": [],
      "authorship_tag": "ABX9TyPqVb0iA595XN1jztaTdxcd",
      "include_colab_link": true
    },
    "kernelspec": {
      "name": "python3",
      "display_name": "Python 3"
    },
    "language_info": {
      "name": "python"
    }
  },
  "cells": [
    {
      "cell_type": "markdown",
      "metadata": {
        "id": "view-in-github",
        "colab_type": "text"
      },
      "source": [
        "<a href=\"https://colab.research.google.com/github/YanaAbunts/MADMO/blob/master/MADMO_Task1_Abunts.ipynb\" target=\"_parent\"><img src=\"https://colab.research.google.com/assets/colab-badge.svg\" alt=\"Open In Colab\"/></a>"
      ]
    },
    {
      "cell_type": "code",
      "metadata": {
        "colab": {
          "base_uri": "https://localhost:8080/"
        },
        "id": "0584I_vdlKB6",
        "outputId": "5e130640-2598-41f2-c14b-3ef065c3d0ba"
      },
      "source": [
        "#Задача 1: напишите функцию, которая проверяет, является ли введенная строка палиндромом.\n",
        "s = 'helleh'\n",
        "def is_palindrome(s):\n",
        "    ans =  False\n",
        "    rev = ''.join(reversed(s))\n",
        "    if s == rev: \n",
        "        return True\n",
        "    else:\n",
        "        return False\n",
        "    return ans\n",
        "print(is_palindrome(s))"
      ],
      "execution_count": 1,
      "outputs": [
        {
          "output_type": "stream",
          "text": [
            "True\n"
          ],
          "name": "stdout"
        }
      ]
    },
    {
      "cell_type": "code",
      "metadata": {
        "colab": {
          "base_uri": "https://localhost:8080/"
        },
        "id": "02JxNPmZmi58",
        "outputId": "132e5d66-7b99-42c8-c360-4d147989d3cb"
      },
      "source": [
        "#Задача 2: напишите функцию, которая принимает на вход два списка $[x_1, \\dots, x_n]$ и $[y_1, \\dots, y_n]$, а возвращает их скалярное произведение $$<x, y> = x_1 y_1 + x_2 y_2 + \\dots x_n y_n.$$\n",
        "import numpy as np\n",
        "x = np.array([1, 2])\n",
        "y = np.array([3, 4])\n",
        "np.dot(x, y)"
      ],
      "execution_count": 31,
      "outputs": [
        {
          "output_type": "execute_result",
          "data": {
            "text/plain": [
              "11"
            ]
          },
          "metadata": {
            "tags": []
          },
          "execution_count": 31
        }
      ]
    },
    {
      "cell_type": "code",
      "metadata": {
        "colab": {
          "base_uri": "https://localhost:8080/"
        },
        "id": "QXV0CPtJupGP",
        "outputId": "41f7af80-a5ab-4d00-8217-d6a67f62ed8b"
      },
      "source": [
        "#Задача 2: напишите функцию, которая принимает на вход два списка $[x_1, \\dots, x_n]$ и $[y_1, \\dots, y_n]$, а возвращает их скалярное произведение $$<x, y> = x_1 y_1 + x_2 y_2 + \\dots x_n y_n.$$\n",
        "x = [1, 1, 1, 1]\n",
        "y = [1, 2, 3, 4]\n",
        "\n",
        "def inner_product(x, y):\n",
        "    if len(x) != len(y):\n",
        "        print ('не совпадает длина векторов')\n",
        "    else:\n",
        "        xs = 0\n",
        "        for i in range (len(x)):\n",
        "            xs = xs + x[i]*y[i]\n",
        "        return xs\n",
        "print (inner_product(x, y)) "
      ],
      "execution_count": 46,
      "outputs": [
        {
          "output_type": "stream",
          "text": [
            "10\n"
          ],
          "name": "stdout"
        }
      ]
    },
    {
      "cell_type": "code",
      "metadata": {
        "colab": {
          "base_uri": "https://localhost:8080/"
        },
        "id": "4K_8XlEwym0P",
        "outputId": "9c755630-864f-4e57-a113-2c9f91b8e43b"
      },
      "source": [
        "#Задача 3: по данному натуральному числу $n$ вычислите значение $1! + 2! + \\dots + n!$. В задаче можно использовать только один цикл ($n! = 1 \\cdot 2 \\cdot 3\\cdot n$).\n",
        "def sum_of_factorial(n):\n",
        "    res = 1\n",
        "    sum_res = 0\n",
        "    for i in range (1, n+1):\n",
        "        res *= i\n",
        "        sum_res = sum_res + res\n",
        "    return sum_res\n",
        "print (sum_of_factorial(4))"
      ],
      "execution_count": 45,
      "outputs": [
        {
          "output_type": "stream",
          "text": [
            "33\n"
          ],
          "name": "stdout"
        }
      ]
    },
    {
      "cell_type": "code",
      "metadata": {
        "colab": {
          "base_uri": "https://localhost:8080/"
        },
        "id": "qN0OE1eA4QOp",
        "outputId": "964aa820-d17e-4c29-8fd6-40311cf1091f"
      },
      "source": [
        "# Задача 4: по данной последовательности молекулы ДНК постройте коплементарную молекулу, заменив нуклеотиды на парные им (A -> T, T -> A, G -> C, C -> G).\n",
        "# дано: dna = 'TTAAACCATTTG'\n",
        "# надо: заменить попарно: A -> T, T -> A, G -> C, C -> G,\n",
        "# чтобы стало так:\n",
        "# paired_dna == [AATTTGGTAAAC]\n",
        "\n",
        "dna = 'TTAAACCATTTG'\n",
        "def create_paired_dna(dna):\n",
        "    paired_dna = ''\n",
        "    for i in dna:\n",
        "        if i == 'A':\n",
        "            i = 'T'\n",
        "        elif i == 'T':\n",
        "            i = 'A'\n",
        "        elif i == 'G':\n",
        "            i = 'C'\n",
        "        elif i == 'C':\n",
        "            i = 'G'\n",
        "        else:\n",
        "            ''\n",
        "        paired_dna = paired_dna + i\n",
        "print ('paired_dna: ' + paired_dna)"
      ],
      "execution_count": 35,
      "outputs": [
        {
          "output_type": "stream",
          "text": [
            "paired_dna: AAAAAGGAAAAG\n"
          ],
          "name": "stdout"
        }
      ]
    },
    {
      "cell_type": "code",
      "metadata": {
        "colab": {
          "base_uri": "https://localhost:8080/"
        },
        "id": "EW5yGcvqKEtb",
        "outputId": "17fdaef2-5020-42df-d6ad-298416002c6e"
      },
      "source": [
        "# Задача 4: по данной последовательности молекулы ДНК постройте коплементарную молекулу, заменив нуклеотиды на парные им (A -> T, T -> A, G -> C, C -> G).\n",
        "# дано: dna = 'TTAAACCATTTG'\n",
        "# надо: заменить попарно: A -> T, T -> A, G -> C, C -> G,\n",
        "# чтобы стало так:\n",
        "# paired_dna == [AATTTGGTAAAC]\n",
        "\n",
        "dna = 'TTAAACCATTTG'\n",
        "def create_paired_dna(dna):\n",
        "    paired_dna = dna.replace('A','T').replace('T','A').replace('G','C').replace('C','G')\n",
        "print ('paired_dna: ' + paired_dna)"
      ],
      "execution_count": 31,
      "outputs": [
        {
          "output_type": "stream",
          "text": [
            "paired_dna: AAAAAGGAAAAG\n"
          ],
          "name": "stdout"
        }
      ]
    }
  ]
}