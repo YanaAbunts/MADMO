{
  "nbformat": 4,
  "nbformat_minor": 0,
  "metadata": {
    "colab": {
      "name": "Untitled0.ipynb",
      "provenance": [],
      "authorship_tag": "ABX9TyNlhLZhxAeHR8FDhu630bvx",
      "include_colab_link": true
    },
    "kernelspec": {
      "name": "python3",
      "display_name": "Python 3"
    },
    "language_info": {
      "name": "python"
    }
  },
  "cells": [
    {
      "cell_type": "markdown",
      "metadata": {
        "id": "view-in-github",
        "colab_type": "text"
      },
      "source": [
        "<a href=\"https://colab.research.google.com/github/YanaAbunts/MADMO/blob/master/Task1_MADMO_AbuntsYana.ipynb\" target=\"_parent\"><img src=\"https://colab.research.google.com/assets/colab-badge.svg\" alt=\"Open In Colab\"/></a>"
      ]
    },
    {
      "cell_type": "code",
      "metadata": {
        "colab": {
          "base_uri": "https://localhost:8080/"
        },
        "id": "0584I_vdlKB6",
        "outputId": "5e130640-2598-41f2-c14b-3ef065c3d0ba"
      },
      "source": [
        "#Задача 1: напишите функцию, которая проверяет, является ли введенная строка палиндромом.\n",
        "s = 'helleh'\n",
        "def is_palindrome(s):\n",
        "    ans =  False\n",
        "    rev = ''.join(reversed(s))\n",
        "    if s == rev: \n",
        "        return True\n",
        "    else:\n",
        "        return False\n",
        "    return ans\n",
        "print(is_palindrome(s))"
      ],
      "execution_count": 1,
      "outputs": [
        {
          "output_type": "stream",
          "text": [
            "True\n"
          ],
          "name": "stdout"
        }
      ]
    },
    {
      "cell_type": "code",
      "metadata": {
        "colab": {
          "base_uri": "https://localhost:8080/"
        },
        "id": "02JxNPmZmi58",
        "outputId": "132e5d66-7b99-42c8-c360-4d147989d3cb"
      },
      "source": [
        "#Задача 2: версия 1: напишите функцию, которая принимает на вход два списка $[x_1, \\dots, x_n]$ и $[y_1, \\dots, y_n]$, а возвращает их скалярное произведение $$<x, y> = x_1 y_1 + x_2 y_2 + \\dots x_n y_n.$$\n",
        "import numpy as np\n",
        "x = np.array([1, 2])\n",
        "y = np.array([3, 4])\n",
        "np.dot(x, y)"
      ],
      "execution_count": 31,
      "outputs": [
        {
          "output_type": "execute_result",
          "data": {
            "text/plain": [
              "11"
            ]
          },
          "metadata": {
            "tags": []
          },
          "execution_count": 31
        }
      ]
    },
    {
      "cell_type": "code",
      "metadata": {
        "colab": {
          "base_uri": "https://localhost:8080/"
        },
        "id": "QXV0CPtJupGP",
        "outputId": "41f7af80-a5ab-4d00-8217-d6a67f62ed8b"
      },
      "source": [
        "#Задача 2: версия 2:  напишите функцию, которая принимает на вход два списка $[x_1, \\dots, x_n]$ и $[y_1, \\dots, y_n]$, а возвращает их скалярное произведение $$<x, y> = x_1 y_1 + x_2 y_2 + \\dots x_n y_n.$$\n",
        "x = [1, 1, 1, 1]\n",
        "y = [1, 2, 3, 4]\n",
        "\n",
        "def inner_product(x, y):\n",
        "    if len(x) != len(y):\n",
        "        print ('не совпадает длина векторов')\n",
        "    else:\n",
        "        xs = 0\n",
        "        for i in range (len(x)):\n",
        "            xs = xs + x[i]*y[i]\n",
        "        return xs\n",
        "print (inner_product(x, y)) "
      ],
      "execution_count": 46,
      "outputs": [
        {
          "output_type": "stream",
          "text": [
            "10\n"
          ],
          "name": "stdout"
        }
      ]
    },
    {
      "cell_type": "code",
      "metadata": {
        "colab": {
          "base_uri": "https://localhost:8080/"
        },
        "id": "4K_8XlEwym0P",
        "outputId": "9c755630-864f-4e57-a113-2c9f91b8e43b"
      },
      "source": [
        "#Задача 3: по данному натуральному числу $n$ вычислите значение $1! + 2! + \\dots + n!$. В задаче можно использовать только один цикл ($n! = 1 \\cdot 2 \\cdot 3\\cdot n$).\n",
        "def sum_of_factorial(n):\n",
        "    res = 1\n",
        "    sum_res = 0\n",
        "    for i in range (1, n+1):\n",
        "        res *= i\n",
        "        sum_res = sum_res + res\n",
        "    return sum_res\n",
        "print (sum_of_factorial(4))"
      ],
      "execution_count": 45,
      "outputs": [
        {
          "output_type": "stream",
          "text": [
            "33\n"
          ],
          "name": "stdout"
        }
      ]
    },
    {
      "cell_type": "code",
      "metadata": {
        "colab": {
          "base_uri": "https://localhost:8080/"
        },
        "id": "qN0OE1eA4QOp",
        "outputId": "964aa820-d17e-4c29-8fd6-40311cf1091f"
      },
      "source": [
        "# Задача 4: версия 1: по данной последовательности молекулы ДНК постройте коплементарную молекулу, заменив нуклеотиды на парные им (A -> T, T -> A, G -> C, C -> G).\n",
        "# тут у меня сначала получилось неправильно\n",
        "\n",
        "dna = 'TTAAACCATTTG'\n",
        "def create_paired_dna(dna):\n",
        "    paired_dna = ''\n",
        "    for i in dna:\n",
        "        if i == 'A':\n",
        "            i = 'T'\n",
        "        elif i == 'T':\n",
        "            i = 'A'\n",
        "        elif i == 'G':\n",
        "            i = 'C'\n",
        "        elif i == 'C':\n",
        "            i = 'G'\n",
        "        else:\n",
        "            ''\n",
        "        paired_dna = paired_dna + i\n",
        "print ('paired_dna: ' + paired_dna)"
      ],
      "execution_count": 35,
      "outputs": [
        {
          "output_type": "stream",
          "text": [
            "paired_dna: AAAAAGGAAAAG\n"
          ],
          "name": "stdout"
        }
      ]
    },
    {
      "cell_type": "code",
      "metadata": {
        "colab": {
          "base_uri": "https://localhost:8080/"
        },
        "id": "EW5yGcvqKEtb",
        "outputId": "17fdaef2-5020-42df-d6ad-298416002c6e"
      },
      "source": [
        "# Задача 4: версия 2: по данной последовательности молекулы ДНК постройте коплементарную молекулу, заменив нуклеотиды на парные им (A -> T, T -> A, G -> C, C -> G).\n",
        "# тут тоже получилось неправильно\n",
        "\n",
        "dna = 'TTAAACCATTTG'\n",
        "def create_paired_dna(dna):\n",
        "    paired_dna = dna.replace('A','T').replace('T','A').replace('G','C').replace('C','G')\n",
        "print ('paired_dna: ' + paired_dna)"
      ],
      "execution_count": 31,
      "outputs": [
        {
          "output_type": "stream",
          "text": [
            "paired_dna: AAAAAGGAAAAG\n"
          ],
          "name": "stdout"
        }
      ]
    },
    {
      "cell_type": "code",
      "metadata": {
        "colab": {
          "base_uri": "https://localhost:8080/"
        },
        "id": "8nEjJWyrPbmp",
        "outputId": "8f303847-0df7-4037-e5b5-d8d5af7ebd0b"
      },
      "source": [
        "# Задача 4: версия 3: по данной последовательности молекулы ДНК постройте коплементарную молекулу, заменив нуклеотиды на парные им (A -> T, T -> A, G -> C, C -> G).\n",
        "# а тут наконец получилось\n",
        "\n",
        "M = {'A':'T', 'T':'A', 'C':'G', 'G':'C'}\n",
        "dna = 'TTAAACCATTTG'\n",
        "paired_dna = \"\".join([M.get(c,c) for c in dna])\n",
        "print ('paired_dna: ' + paired_dna)"
      ],
      "execution_count": 23,
      "outputs": [
        {
          "output_type": "stream",
          "text": [
            "paired_dna: AATTTGGTAAAC\n"
          ],
          "name": "stdout"
        }
      ]
    },
    {
      "cell_type": "code",
      "metadata": {
        "colab": {
          "base_uri": "https://localhost:8080/"
        },
        "id": "YuBQrOA2UzXV",
        "outputId": "1b709fff-759b-4032-ee11-dabbc7670f8b"
      },
      "source": [
        "#Задача 5: Используя список, реализуйте класс стэка -- это структура данных, которая поддерживает следующие операции:\n",
        "#добавление элемента в конец (push)\n",
        "#удалить элемент из конца и вернуть значение удаленного элемента (pop)\n",
        "#узнать количество элементов в структуре данных\n",
        "#Остальные операции стандартного списка (например, обращение по индексу) не должны поддерживаться.\n",
        "\n",
        "class Stack(object):\n",
        "    pass\n",
        "\n",
        "    def __init__(self):\n",
        "        self.items = []\n",
        "\n",
        "    def push(self, item):\n",
        "        self.items.append(item)\n",
        "    \n",
        "    def pop(self):\n",
        "        if len(self.items) == 0:\n",
        "           return None\n",
        "        removed = self.items.pop()\n",
        "        return removed\n",
        "  \n",
        "    def size(self):\n",
        "        return len(self.items)\n",
        "\n",
        "s = Stack()\n",
        "s.push(1)\n",
        "s.push(3)\n",
        "s.push(5)\n",
        "print(s.size())\n",
        "print(s.items)\n",
        "s.pop\n",
        "s.size\n",
        "print(s.pop())\n",
        "print(s.size())"
      ],
      "execution_count": 39,
      "outputs": [
        {
          "output_type": "stream",
          "text": [
            "3\n",
            "[1, 3, 5]\n",
            "5\n",
            "2\n"
          ],
          "name": "stdout"
        }
      ]
    },
    {
      "cell_type": "code",
      "metadata": {
        "colab": {
          "base_uri": "https://localhost:8080/"
        },
        "id": "UXHnqhFvob5r",
        "outputId": "ce7a0c7e-9e12-4ffe-e600-3d8936d59efb"
      },
      "source": [
        "#Задача 6: Используя список, реализуйте класс очереди -- это структура данных, которая поддерживает следующие операции:\n",
        "#добавление элемента в конец (push)\n",
        "#удалить элемент из начала и вернуть значение удаленного элемента (pop)\n",
        "#узнать количество элементов в структуре данных\n",
        "#Остальные операции стандартного списка (например, обращение по индексу) не должны поддерживаться.\n",
        "\n",
        "class Queue(object):\n",
        "    pass\n",
        "\n",
        "    def __init__(self):\n",
        "        self.items = []\n",
        "\n",
        "    def push(self, item):\n",
        "        self.items.append(item)\n",
        "    \n",
        "    def pop(self):\n",
        "        if len(self.items) == 0:\n",
        "           return None\n",
        "        removed = self.items.pop(0)\n",
        "        return removed\n",
        "  \n",
        "    def size(self):\n",
        "        return len(self.items)\n",
        "\n",
        "s = Queue()\n",
        "s.push(1)\n",
        "s.push(3)\n",
        "s.push(5)\n",
        "print(s.size())\n",
        "print(s.items)\n",
        "s.pop\n",
        "s.size\n",
        "print(s.pop())\n",
        "print(s.size())"
      ],
      "execution_count": 43,
      "outputs": [
        {
          "output_type": "stream",
          "text": [
            "3\n",
            "[1, 3, 5]\n",
            "1\n",
            "2\n"
          ],
          "name": "stdout"
        }
      ]
    },
    {
      "cell_type": "code",
      "metadata": {
        "id": "LqJcYOGpouk4"
      },
      "source": [
        "#Задача 7*: Реализуйте класс \"хранилища банка\". Он должен хранить список клиентов (имена) вместе с паролями от их счетов и денежном балансом на этих счетах.\n",
        "#Банк должен уметь пополнять счет клиента, снимать деньги с счета клиента, переводить деньги с одного счета на другой и добавлять нового клиента.\n",
        "#У клиента может быть больше одного счета\n",
        "#Корректность проводимых операций стоит проверять (например, что хватает денег чтобы их снять)\n",
        "#Постарайтесь использовать как можно меньше памяти для хранения необходимых данных\n",
        "\n",
        "class Bank(object):\n",
        "    pass\n",
        "\n",
        "    names = []\n",
        "    accounts = []\n",
        "    passwords = []\n",
        "    balances = []\n",
        "\n",
        "    def __init__(self, name, account, password, balance):\n",
        "        self.name = name\n",
        "        self.account = account\n",
        "        self.password = password\n",
        "        self.balance = balance\n",
        "\n",
        "        self.names.append(name)\n",
        "        self.accounts.append(account)\n",
        "        self.passwords.append(password)\n",
        "        self.balances.append(balance)\n",
        "  \n",
        "    def deposit(self, name, account, amount):\n",
        "        \"\"\"операция депонирования также будет выполнять функцию второго шага в операции перевода между счетами - зачисление на счет-получатель\"\"\"\n",
        "        self.balance += amount\n",
        "        return self.balance\n",
        "\n",
        "    def withdraw(self, name, account, amount):\n",
        "        \"\"\"операция списания также будет выполнять функцию первого шага в операции перевода между счетами - списание со счета-отправитель\"\"\"\n",
        "        if amount <= self.balance:\n",
        "            self.balance -= amount\n",
        "            return self.balance\n",
        "        else:\n",
        "            print('not enough money to proceed withdrawal from current account')\n",
        "\n",
        "    def transfer (self, name, account, account_receiving, amount):\n",
        "        self.account_receiving = account_receiving\n",
        "        self.withdraw(name, account, amount)\n",
        "        self.deposit(name, account, amount)\n",
        "    \n",
        "    def add_customer(self, name, account, password, balance):\n",
        "        self.names.append(name)\n",
        "        self.accounts.append(account)\n",
        "        self.passwords.append(password)\n",
        "        self.balances.append(balance)\n",
        "\n",
        "\n",
        "b = Bank('Ann', 'accA1', 'Qwerty1', 100)\n",
        "b.add_customer('Ann', 'accA2', 'Qwerty2', 50)\n",
        "b.add_customer('Jane','accJ1', 'Qazwsx1', 200)\n",
        "b.deposit('Ann', 'accA2', 20)\n",
        "b.withdraw('Jane', 'accJ1', 10)\n",
        "b.transfer('Ann', 'accA1', 'accA2', 15)\n",
        "#дальше нужно было бы еще завести наполняемые словари имен, счетов и паролей, чтобы легко выводтить нужные свойства объектов, но я не до конца эту технику отработала пока.\n",
        "#ниже написала пробеную схему такого словаря, но в саму задачу 7 не встроила"
      ],
      "execution_count": 22,
      "outputs": []
    },
    {
      "cell_type": "code",
      "metadata": {
        "colab": {
          "base_uri": "https://localhost:8080/"
        },
        "id": "Q6-SiosOwsPt",
        "outputId": "38642896-a044-4e29-b40d-6c6ad1088224"
      },
      "source": [
        "b.accounts"
      ],
      "execution_count": 23,
      "outputs": [
        {
          "output_type": "execute_result",
          "data": {
            "text/plain": [
              "['accA1', 'accA2', 'accJ1']"
            ]
          },
          "metadata": {
            "tags": []
          },
          "execution_count": 23
        }
      ]
    },
    {
      "cell_type": "code",
      "metadata": {
        "colab": {
          "base_uri": "https://localhost:8080/"
        },
        "id": "ZG6vRSAF1x4K",
        "outputId": "b12c50c4-b442-466c-eca5-458740e8dd96"
      },
      "source": [
        "bank = {}\n",
        "acc = {}\n",
        "acc['1'] = 100\n",
        "acc['2'] = 200\n",
        "bank['cl1'] = acc\n",
        "\n",
        "bank"
      ],
      "execution_count": 25,
      "outputs": [
        {
          "output_type": "execute_result",
          "data": {
            "text/plain": [
              "{'cl1': {'1': 100, '2': 200}}"
            ]
          },
          "metadata": {
            "tags": []
          },
          "execution_count": 25
        }
      ]
    },
    {
      "cell_type": "code",
      "metadata": {
        "colab": {
          "base_uri": "https://localhost:8080/"
        },
        "id": "1nF4_gNS2lXz",
        "outputId": "0466fb20-918a-4880-d89a-9dd05fef6c71"
      },
      "source": [
        "bank['cl1']['2']"
      ],
      "execution_count": 27,
      "outputs": [
        {
          "output_type": "execute_result",
          "data": {
            "text/plain": [
              "200"
            ]
          },
          "metadata": {
            "tags": []
          },
          "execution_count": 27
        }
      ]
    },
    {
      "cell_type": "code",
      "metadata": {
        "id": "-fUEY8Hc2yu7"
      },
      "source": [
        ""
      ],
      "execution_count": null,
      "outputs": []
    }
  ]
}